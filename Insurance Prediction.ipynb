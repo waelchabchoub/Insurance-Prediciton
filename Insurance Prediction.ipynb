{
 "cells": [
  {
   "cell_type": "markdown",
   "metadata": {},
   "source": [
    "# IMPORT DATA"
   ]
  },
  {
   "cell_type": "code",
   "execution_count": null,
   "metadata": {},
   "outputs": [],
   "source": [
    "import pandas as pd"
   ]
  },
  {
   "cell_type": "code",
   "execution_count": null,
   "metadata": {},
   "outputs": [],
   "source": [
    "train_data = pd.read_csv('./train_data.csv')\n",
    "test_data = pd.read_csv('./test_data.csv')"
   ]
  },
  {
   "cell_type": "code",
   "execution_count": null,
   "metadata": {},
   "outputs": [],
   "source": [
    "train_data.shape"
   ]
  },
  {
   "cell_type": "markdown",
   "metadata": {},
   "source": [
    "# DATA PREPROCESSING"
   ]
  },
  {
   "cell_type": "code",
   "execution_count": null,
   "metadata": {},
   "outputs": [],
   "source": [
    "features = train_data.columns\n",
    "features"
   ]
  },
  {
   "cell_type": "code",
   "execution_count": null,
   "metadata": {},
   "outputs": [],
   "source": [
    "#check nan values\n",
    "train_data.isnull().any()"
   ]
  },
  {
   "cell_type": "code",
   "execution_count": null,
   "metadata": {},
   "outputs": [],
   "source": [
    "#drop nan values\n",
    "new_data_train = pd.DataFrame(train_data.fillna(0))\n",
    "new_test_data = pd.DataFrame(test_data.fillna(0))\n",
    "new_data_train.shape"
   ]
  },
  {
   "cell_type": "code",
   "execution_count": null,
   "metadata": {},
   "outputs": [],
   "source": [
    "#features modification\n",
    "new_data_train.loc[new_data_train.Building_Painted=='N','Building_Painted']=1\n",
    "new_data_train.loc[new_data_train.Building_Painted=='V','Building_Painted']=0\n",
    "new_data_train.loc[new_data_train.Building_Fenced=='N','Building_Fenced']=1\n",
    "new_data_train.loc[new_data_train.Building_Fenced=='V','Building_Fenced']=0\n",
    "new_data_train.loc[new_data_train.Garden=='O','Garden']=0\n",
    "new_data_train.loc[new_data_train.Garden=='V','Garden']=1\n",
    "new_data_train.loc[new_data_train.Settlement=='U','Settlement']=0\n",
    "new_data_train.loc[new_data_train.Settlement=='R','Settlement']=1\n",
    "#test features modification\n",
    "new_test_data.loc[new_test_data.Building_Painted=='N','Building_Painted']=1\n",
    "new_test_data.loc[new_test_data.Building_Painted=='V','Building_Painted']=0\n",
    "new_test_data.loc[new_test_data.Building_Fenced=='N','Building_Fenced']=1\n",
    "new_test_data.loc[new_test_data.Building_Fenced=='V','Building_Fenced']=0\n",
    "new_test_data.loc[new_test_data.Garden=='O','Garden']=0\n",
    "new_test_data.loc[new_test_data.Garden=='V','Garden']=1\n",
    "new_test_data.loc[new_test_data.Settlement=='U','Settlement']=0\n",
    "new_test_data.loc[new_test_data.Settlement=='R','Settlement']=1"
   ]
  },
  {
   "cell_type": "code",
   "execution_count": null,
   "metadata": {},
   "outputs": [],
   "source": [
    "new_data_train.head()"
   ]
  },
  {
   "cell_type": "markdown",
   "metadata": {},
   "source": [
    "# TRAIN FEATURES , TRAIN LABELS"
   ]
  },
  {
   "cell_type": "code",
   "execution_count": null,
   "metadata": {},
   "outputs": [],
   "source": [
    "x = new_data_train[['Insured_Period', 'Residential',\n",
    "       'Building_Painted', 'Building_Fenced', 'Garden', 'Settlement',\n",
    "       'Building Dimension', 'Building_Type']]\n",
    "y = new_data_train['Claim']\n",
    "x_test = new_test_data[['Insured_Period', 'Residential',\n",
    "       'Building_Painted', 'Building_Fenced', 'Garden', 'Settlement',\n",
    "       'Building Dimension', 'Building_Type']]"
   ]
  },
  {
   "cell_type": "markdown",
   "metadata": {},
   "source": [
    "# TRAIN THE MODEL"
   ]
  },
  {
   "cell_type": "code",
   "execution_count": null,
   "metadata": {},
   "outputs": [],
   "source": [
    "from sklearn import datasets\n",
    "from sklearn.multiclass import OneVsRestClassifier\n",
    "from sklearn.svm import LinearSVC\n",
    "clf =OneVsRestClassifier(LinearSVC(random_state=0,max_iter=1000))\n",
    "clf.fit(x, y)"
   ]
  },
  {
   "cell_type": "markdown",
   "metadata": {},
   "source": [
    "# PREDICTION"
   ]
  },
  {
   "cell_type": "code",
   "execution_count": null,
   "metadata": {},
   "outputs": [],
   "source": [
    "prediction = pd.DataFrame(clf.predict(x_test),columns = ['Claim'])\n",
    "prediction"
   ]
  },
  {
   "cell_type": "markdown",
   "metadata": {},
   "source": [
    "# SAVE RESULT TO CSV"
   ]
  },
  {
   "cell_type": "code",
   "execution_count": null,
   "metadata": {},
   "outputs": [],
   "source": [
    "customer_id = new_test_data['Customer Id']\n",
    "final = pd.concat([customer_id,prediction],axis=1,join='inner')\n",
    "final.to_csv ('final.csv', index = False)"
   ]
  },
  {
   "cell_type": "code",
   "execution_count": null,
   "metadata": {},
   "outputs": [],
   "source": [
    "final.head()"
   ]
  },
  {
   "cell_type": "code",
   "execution_count": null,
   "metadata": {},
   "outputs": [],
   "source": []
  }
 ],
 "metadata": {
  "kernelspec": {
   "display_name": "Python 3",
   "language": "python",
   "name": "python3"
  },
  "language_info": {
   "codemirror_mode": {
    "name": "ipython",
    "version": 3
   },
   "file_extension": ".py",
   "mimetype": "text/x-python",
   "name": "python",
   "nbconvert_exporter": "python",
   "pygments_lexer": "ipython3",
   "version": "3.8.3"
  }
 },
 "nbformat": 4,
 "nbformat_minor": 4
}
